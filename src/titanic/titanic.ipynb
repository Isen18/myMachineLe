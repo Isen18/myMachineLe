{
 "cells": [
  {
   "cell_type": "code",
   "execution_count": 1,
   "metadata": {
    "collapsed": true
   },
   "outputs": [],
   "source": [
    "import numpy as np\n",
    "import pandas as pd\n",
    "import matplotlib.pyplot as plt\n",
    "\n",
    "#设置画图时的文字根式为微软雅黑， 显示中文字体\n",
    "plt.rcParams['axes.unicode_minus'] = False\n",
    "plt.rcParams['font.sans-serif'] = ['SimHei']\n",
    "plt.style.use(\"ggplot\")\n",
    "\n",
    "%matplotlib inline"
   ]
  },
  {
   "cell_type": "markdown",
   "metadata": {},
   "source": [
    "# 数据探索"
   ]
  },
  {
   "cell_type": "code",
   "execution_count": 6,
   "metadata": {},
   "outputs": [
    {
     "name": "stdout",
     "output_type": "stream",
     "text": [
      "<class 'pandas.core.frame.DataFrame'>\n",
      "RangeIndex: 891 entries, 0 to 890\n",
      "Data columns (total 12 columns):\n",
      "PassengerId    891 non-null int64\n",
      "Survived       891 non-null int64\n",
      "Pclass         891 non-null int64\n",
      "Name           891 non-null object\n",
      "Sex            891 non-null object\n",
      "Age            714 non-null float64\n",
      "SibSp          891 non-null int64\n",
      "Parch          891 non-null int64\n",
      "Ticket         891 non-null object\n",
      "Fare           891 non-null float64\n",
      "Cabin          204 non-null object\n",
      "Embarked       889 non-null object\n",
      "dtypes: float64(2), int64(5), object(5)\n",
      "memory usage: 83.6+ KB\n"
     ]
    },
    {
     "data": {
      "text/html": [
       "<div>\n",
       "<style>\n",
       "    .dataframe thead tr:only-child th {\n",
       "        text-align: right;\n",
       "    }\n",
       "\n",
       "    .dataframe thead th {\n",
       "        text-align: left;\n",
       "    }\n",
       "\n",
       "    .dataframe tbody tr th {\n",
       "        vertical-align: top;\n",
       "    }\n",
       "</style>\n",
       "<table border=\"1\" class=\"dataframe\">\n",
       "  <thead>\n",
       "    <tr style=\"text-align: right;\">\n",
       "      <th></th>\n",
       "      <th>PassengerId</th>\n",
       "      <th>Survived</th>\n",
       "      <th>Pclass</th>\n",
       "      <th>Age</th>\n",
       "      <th>SibSp</th>\n",
       "      <th>Parch</th>\n",
       "      <th>Fare</th>\n",
       "    </tr>\n",
       "  </thead>\n",
       "  <tbody>\n",
       "    <tr>\n",
       "      <th>count</th>\n",
       "      <td>891.000000</td>\n",
       "      <td>891.000000</td>\n",
       "      <td>891.000000</td>\n",
       "      <td>714.000000</td>\n",
       "      <td>891.000000</td>\n",
       "      <td>891.000000</td>\n",
       "      <td>891.000000</td>\n",
       "    </tr>\n",
       "    <tr>\n",
       "      <th>mean</th>\n",
       "      <td>446.000000</td>\n",
       "      <td>0.383838</td>\n",
       "      <td>2.308642</td>\n",
       "      <td>29.699118</td>\n",
       "      <td>0.523008</td>\n",
       "      <td>0.381594</td>\n",
       "      <td>32.204208</td>\n",
       "    </tr>\n",
       "    <tr>\n",
       "      <th>std</th>\n",
       "      <td>257.353842</td>\n",
       "      <td>0.486592</td>\n",
       "      <td>0.836071</td>\n",
       "      <td>14.526497</td>\n",
       "      <td>1.102743</td>\n",
       "      <td>0.806057</td>\n",
       "      <td>49.693429</td>\n",
       "    </tr>\n",
       "    <tr>\n",
       "      <th>min</th>\n",
       "      <td>1.000000</td>\n",
       "      <td>0.000000</td>\n",
       "      <td>1.000000</td>\n",
       "      <td>0.420000</td>\n",
       "      <td>0.000000</td>\n",
       "      <td>0.000000</td>\n",
       "      <td>0.000000</td>\n",
       "    </tr>\n",
       "    <tr>\n",
       "      <th>25%</th>\n",
       "      <td>223.500000</td>\n",
       "      <td>0.000000</td>\n",
       "      <td>2.000000</td>\n",
       "      <td>20.125000</td>\n",
       "      <td>0.000000</td>\n",
       "      <td>0.000000</td>\n",
       "      <td>7.910400</td>\n",
       "    </tr>\n",
       "    <tr>\n",
       "      <th>50%</th>\n",
       "      <td>446.000000</td>\n",
       "      <td>0.000000</td>\n",
       "      <td>3.000000</td>\n",
       "      <td>28.000000</td>\n",
       "      <td>0.000000</td>\n",
       "      <td>0.000000</td>\n",
       "      <td>14.454200</td>\n",
       "    </tr>\n",
       "    <tr>\n",
       "      <th>75%</th>\n",
       "      <td>668.500000</td>\n",
       "      <td>1.000000</td>\n",
       "      <td>3.000000</td>\n",
       "      <td>38.000000</td>\n",
       "      <td>1.000000</td>\n",
       "      <td>0.000000</td>\n",
       "      <td>31.000000</td>\n",
       "    </tr>\n",
       "    <tr>\n",
       "      <th>max</th>\n",
       "      <td>891.000000</td>\n",
       "      <td>1.000000</td>\n",
       "      <td>3.000000</td>\n",
       "      <td>80.000000</td>\n",
       "      <td>8.000000</td>\n",
       "      <td>6.000000</td>\n",
       "      <td>512.329200</td>\n",
       "    </tr>\n",
       "  </tbody>\n",
       "</table>\n",
       "</div>"
      ],
      "text/plain": [
       "       PassengerId    Survived      Pclass         Age       SibSp  \\\n",
       "count   891.000000  891.000000  891.000000  714.000000  891.000000   \n",
       "mean    446.000000    0.383838    2.308642   29.699118    0.523008   \n",
       "std     257.353842    0.486592    0.836071   14.526497    1.102743   \n",
       "min       1.000000    0.000000    1.000000    0.420000    0.000000   \n",
       "25%     223.500000    0.000000    2.000000   20.125000    0.000000   \n",
       "50%     446.000000    0.000000    3.000000   28.000000    0.000000   \n",
       "75%     668.500000    1.000000    3.000000   38.000000    1.000000   \n",
       "max     891.000000    1.000000    3.000000   80.000000    8.000000   \n",
       "\n",
       "            Parch        Fare  \n",
       "count  891.000000  891.000000  \n",
       "mean     0.381594   32.204208  \n",
       "std      0.806057   49.693429  \n",
       "min      0.000000    0.000000  \n",
       "25%      0.000000    7.910400  \n",
       "50%      0.000000   14.454200  \n",
       "75%      0.000000   31.000000  \n",
       "max      6.000000  512.329200  "
      ]
     },
     "execution_count": 6,
     "metadata": {},
     "output_type": "execute_result"
    }
   ],
   "source": [
    "data = pd.read_csv('../../data/titanic/train.csv')\n",
    "# print(data)\n",
    "data.info()\n",
    "data.describe()"
   ]
  },
  {
   "cell_type": "code",
   "execution_count": 196,
   "metadata": {},
   "outputs": [
    {
     "data": {
      "text/plain": [
       "687"
      ]
     },
     "execution_count": 196,
     "metadata": {},
     "output_type": "execute_result"
    }
   ],
   "source": [
    "data['Cabin'].isnull().sum()"
   ]
  },
  {
   "cell_type": "markdown",
   "metadata": {},
   "source": [
    "PassengerId:乘客ID\n",
    "\n",
    "Survived:是否获救\n",
    "\n",
    "Pclass:乘客等级\n",
    "\n",
    "Name:乘客姓名\n",
    "\n",
    "Sex:性别\n",
    "\n",
    "Age:年龄\n",
    "\n",
    "SibSp:堂兄弟妹个数\n",
    "\n",
    "Parch:父母与小孩个数\n",
    "\n",
    "Ticket:船票信息\n",
    "\n",
    "Fare:票价\n",
    "\n",
    "Cabin:客舱\n",
    "\n",
    "Embarked:登船港口\n"
   ]
  },
  {
   "cell_type": "markdown",
   "metadata": {},
   "source": [
    "# 可视化"
   ]
  },
  {
   "cell_type": "code",
   "execution_count": 197,
   "metadata": {},
   "outputs": [
    {
     "data": {
      "text/plain": [
       "Text(0.5,1,'Passegers per boarding location')"
      ]
     },
     "execution_count": 197,
     "metadata": {},
     "output_type": "execute_result"
    },
    {
     "data": {
      "image/png": "[encoded data removed]",
      "text/plain": [
       "<matplotlib.figure.Figure at 0x21e69c32b38>"
      ]
     },
     "metadata": {},
     "output_type": "display_data"
    }
   ],
   "source": [
    "fig = plt.figure(figsize=(18, 6))\n",
    "alpha = alpha_scatterplot = 0.2\n",
    "alpha_bar_chart = 0.55\n",
    "\n",
    "ax1 = plt.subplot2grid((2, 3), (0, 0))\n",
    "# plt.subplot(231)\n",
    "data.Survived.value_counts().plot(kind = 'bar', alpha=alpha_bar_chart)\n",
    "ax1.set_xlim(-1, 2)\n",
    "plt.title(\"Distribution of Survival, (1 = Survived)\")\n",
    "\n",
    "plt.subplot2grid((2, 3), (0, 1))\n",
    "plt.scatter(data.Survived, data.Age, alpha=alpha_scatterplot)\n",
    "plt.ylabel(\"Age\")\n",
    "plt.grid(b=True, which=\"major\", axis='y')\n",
    "plt.title(\"Survival by Age, (1 = Survived)\")\n",
    "\n",
    "ax3 = plt.subplot2grid((2, 3), (0, 2))\n",
    "data.Pclass.value_counts().plot(kind = 'barh', alpha=alpha_bar_chart)\n",
    "ax3.set_ylim(-1, len(data.Pclass.value_counts()))\n",
    "plt.title(\"Class Distribution\")\n",
    "\n",
    "plt.subplot2grid((2, 3), (1, 0), colspan=2)\n",
    "data.Age[data.Pclass == 1].plot(kind='kde')\n",
    "data.Age[data.Pclass == 2].plot(kind='kde')\n",
    "data.Age[data.Pclass == 3].plot(kind='kde')\n",
    "plt.xlabel(\"Age\")\n",
    "plt.title(\"Age Distribution within classes\")\n",
    "plt.legend(('1st Class', '2nd Class', '3rd Class'), loc='best')\n",
    "\n",
    "ax5 = plt.subplot2grid((2, 3), (1, 2))\n",
    "data.Embarked.value_counts().plot(kind='bar', alpha=alpha_bar_chart)\n",
    "ax5.set_xlim(-1, len(data.Embarked.value_counts()))\n",
    "plt.title(\"Passegers per boarding location\")"
   ]
  },
  {
   "cell_type": "markdown",
   "metadata": {},
   "source": [
    "# 生还情况"
   ]
  },
  {
   "cell_type": "code",
   "execution_count": 198,
   "metadata": {},
   "outputs": [
    {
     "data": {
      "text/plain": [
       "Text(0.5,1,'Survival Breakdown (1 = Survived, 0 = Died)')"
      ]
     },
     "execution_count": 198,
     "metadata": {},
     "output_type": "execute_result"
    },
    {
     "data": {
      "text/plain": [
       "<matplotlib.figure.Figure at 0x21e6a661908>"
      ]
     },
     "metadata": {},
     "output_type": "display_data"
    },
    {
     "data": {
      "image/png": "[encoded data removed]",
      "text/plain": [
       "<matplotlib.figure.Figure at 0x21e6a6612b0>"
      ]
     },
     "metadata": {},
     "output_type": "display_data"
    }
   ],
   "source": [
    "plt.figure(figsize=(6, 4))\n",
    "fig, ax = plt.subplots()\n",
    "data.Survived.value_counts().plot(kind='barh', color='blue', alpha=.65)\n",
    "ax.set_ylim(-1, len(data.Survived.value_counts()))\n",
    "plt.title(\"Survival Breakdown (1 = Survived, 0 = Died)\")"
   ]
  },
  {
   "cell_type": "markdown",
   "metadata": {},
   "source": [
    "# 与性别有关？"
   ]
  },
  {
   "cell_type": "code",
   "execution_count": 199,
   "metadata": {},
   "outputs": [
    {
     "data": {
      "text/plain": [
       "(-1, 2)"
      ]
     },
     "execution_count": 199,
     "metadata": {},
     "output_type": "execute_result"
    },
    {
     "data": {
      "image/png": "[encoded data removed]",
      "text/plain": [
       "<matplotlib.figure.Figure at 0x21e6a9faeb8>"
      ]
     },
     "metadata": {},
     "output_type": "display_data"
    }
   ],
   "source": [
    "fig = plt.figure(figsize=(18, 6))\n",
    "\n",
    "data_male = data.Survived[data.Sex == 'male'].value_counts().sort_index()\n",
    "data_female = data.Survived[data.Sex == 'female'].value_counts().sort_index()\n",
    "#生还人数\n",
    "ax1 = fig.add_subplot(121)\n",
    "data_male.plot(kind='barh', label='Male', alpha=0.55)\n",
    "data_female.plot(kind='barh', color='#FA2379',label='Female', alpha=0.55)\n",
    "plt.title(\"Who Survived? with respect to Gender, (raw value counts)\")\n",
    "plt.legend(loc='best')\n",
    "ax1.set_ylim(-1, 2)\n",
    "\n",
    "#生还比例\n",
    "ax2 = fig.add_subplot(122)\n",
    "(data_male/float(data_male.sum())).plot(kind='barh', label='Male', alpha=0.55)\n",
    "(data_female/float(data_female.sum())).plot(kind='barh', color='#FA2379', label='Female', alpha=0.55)\n",
    "plt.title(\"Who Survived proportionally? with respect to Gender\")\n",
    "plt.legend(loc='best')\n",
    "ax1.set_ylim(-1, 2)"
   ]
  },
  {
   "cell_type": "markdown",
   "metadata": {},
   "source": [
    "# 与社会地位有关吗？"
   ]
  },
  {
   "cell_type": "code",
   "execution_count": 200,
   "metadata": {},
   "outputs": [
    {
     "data": {
      "text/plain": [
       "<matplotlib.legend.Legend at 0x21e66b8b278>"
      ]
     },
     "execution_count": 200,
     "metadata": {},
     "output_type": "execute_result"
    },
    {
     "data": {
      "image/png": "[encoded data removed]",
      "text/plain": [
       "<matplotlib.figure.Figure at 0x21e6a7c2cf8>"
      ]
     },
     "metadata": {},
     "output_type": "display_data"
    }
   ],
   "source": [
    "fig = plt.figure(figsize=(18, 4))\n",
    "alpha_level = 0.65\n",
    "\n",
    "#female hig class\n",
    "ax1 = fig.add_subplot(141)\n",
    "female_highclass = data.Survived[data.Sex == 'female'][data.Pclass != 3].value_counts()\n",
    "female_highclass.plot(kind='bar', label='female, high class', color='#FA2479', alpha=alpha_level)\n",
    "# ax1.set_xticklabels([\"Survived\", \"Died\"], rotation=0)\n",
    "# ax1.set_xticklabels(['Died', \"Survived\"], rotation=0)\n",
    "ax1.set_xlim(-1, len(female_highclass))\n",
    "plt.title(\"Who Survived? with respect to Gender and Class\");\n",
    "plt.legend(loc='best')\n",
    "\n",
    "#female low class\n",
    "ax2 = fig.add_subplot(142, sharey=ax1)\n",
    "female_lowclass = data.Survived[data.Sex == 'female'][data.Pclass == 3].value_counts()\n",
    "female_lowclass.plot(kind='bar', label='female, low class', color='pink', alpha=alpha_level)\n",
    "# ax2.set_xticklabels([\"Survived\", \"Died\"], rotation=0)\n",
    "ax2.set_xlim(-1, len(female_lowclass))\n",
    "# plt.title(\"Who Survived? with respect to Gender and Class\");\n",
    "plt.legend(loc='best')\n",
    "\n",
    "#male low class\n",
    "ax3 = fig.add_subplot(143, sharey=ax1)\n",
    "male_lowclass = data.Survived[data.Sex == 'male'][data.Pclass == 3].value_counts()\n",
    "male_lowclass.plot(kind='bar', label='male, low lass', color='lightblue', alpha=alpha_level)\n",
    "# ax3.set_xticklabels(['Died', \"Survived\"], rotation=0)\n",
    "ax3.set_xlim(-1, len(male_lowclass))\n",
    "# plt.title(\"Who Survived? with respect to Gender and Class\");\n",
    "plt.legend(loc='best')\n",
    "\n",
    "#male high class\n",
    "ax4 = fig.add_subplot(144, sharey=ax1)\n",
    "male_highclass = data.Survived[data.Sex == 'male'][data.Pclass != 3].value_counts()\n",
    "male_highclass.plot(kind='bar', label='male, high class', color='steelblue', alpha=alpha_level)\n",
    "# ax4.set_xticklabels([\"Survived\", \"Died\"], rotation=0)\n",
    "ax4.set_xlim(-1, len(male_highclass))\n",
    "# plt.title(\"Who Survived? with respect to Gender and Class\");\n",
    "plt.legend(loc='best')"
   ]
  },
  {
   "cell_type": "code",
   "execution_count": 201,
   "metadata": {},
   "outputs": [
    {
     "data": {
      "text/plain": [
       "<matplotlib.legend.Legend at 0x21e6abc53c8>"
      ]
     },
     "execution_count": 201,
     "metadata": {},
     "output_type": "execute_result"
    },
    {
     "data": {
      "image/png": "[encoded data removed]",
      "text/plain": [
       "<matplotlib.figure.Figure at 0x21e6b045908>"
      ]
     },
     "metadata": {},
     "output_type": "display_data"
    }
   ],
   "source": [
    "fig = plt.figure(figsize=(18, 12))\n",
    "a = 0.65\n",
    "#Step1 生还人数对比\n",
    "ax1 = fig.add_subplot(341)\n",
    "data.Survived.value_counts().plot(kind='bar', color='blue', alpha=a)\n",
    "ax.set_xlim(-1, len(data.Survived.value_counts()))\n",
    "plt.title(\"Step. 1 Survival Breakdown (1 = Survived, 0 = Died)\")\n",
    "\n",
    "#Step2 性别有关没有\n",
    "ax2 = fig.add_subplot(345)\n",
    "data_male = data.Survived[data.Sex == 'male'].value_counts().sort_index()\n",
    "data_female = data.Survived[data.Sex == 'female'].value_counts().sort_index()\n",
    "data_male.plot(kind='bar', label='Male')\n",
    "data_female.plot(kind='bar', color='#FA2379',label='Female')\n",
    "plt.title(\"Step2 Who Survived? with respect to Gender, (raw value counts)\")\n",
    "plt.legend(loc='best')\n",
    "ax2.set_xlim(-1, 2)\n",
    "\n",
    "#生还比例\n",
    "ax3 = fig.add_subplot(346)\n",
    "(data_male/float(data.Sex[data.Sex == 'male'].size)).plot(kind='bar', label='Male')\n",
    "(data_female/float(data.Sex[data.Sex == 'female'].size)).plot(kind='bar', color='#FA2379', label='Female')\n",
    "plt.title(\"Who Survived proportionally? with respect to Gender\")\n",
    "plt.legend(loc='best')\n",
    "ax3.set_xlim(-1, 2)\n",
    "\n",
    "#Step3 与 PClass 有关没有\n",
    "ax4 = fig.add_subplot(349)\n",
    "female_highclass = data.Survived[data.Sex == 'female'][data.Pclass != 3].value_counts()\n",
    "female_highclass.plot(kind='bar', label='female, high class', color='#FA2479', alpha=alpha_level)\n",
    "# ax1.set_xticklabels([\"Survived\", \"Died\"], rotation=0)\n",
    "# ax1.set_xticklabels(['Died', \"Survived\"], rotation=0)\n",
    "ax4.set_xlim(-1, len(female_highclass))\n",
    "plt.title(\"Who Survived? with respect to Gender and Class\");\n",
    "plt.legend(loc='best')\n",
    "\n",
    "#female low class \n",
    "ax5 = fig.add_subplot(3, 4, 10, sharey=ax1)\n",
    "female_lowclass = data.Survived[data.Sex == 'female'][data.Pclass == 3].value_counts()\n",
    "female_lowclass.plot(kind='bar', label='female, low class', color='pink', alpha=alpha_level)\n",
    "# ax2.set_xticklabels([\"Survived\", \"Died\"], rotation=0)\n",
    "ax5.set_xlim(-1, len(female_lowclass))\n",
    "# plt.title(\"Who Survived? with respect to Gender and Class\");\n",
    "plt.legend(loc='best')\n",
    "\n",
    "#male low class\n",
    "ax6 = fig.add_subplot(3, 4, 11, sharey=ax1)\n",
    "male_lowclass = data.Survived[data.Sex == 'male'][data.Pclass == 3].value_counts()\n",
    "male_lowclass.plot(kind='bar', label='male, low lass', color='lightblue', alpha=alpha_level)\n",
    "# ax3.set_xticklabels(['Died', \"Survived\"], rotation=0)\n",
    "ax6.set_xlim(-1, len(male_lowclass))\n",
    "# plt.title(\"Who Survived? with respect to Gender and Class\");\n",
    "plt.legend(loc='best')\n",
    "\n",
    "#male high class\n",
    "ax7 = fig.add_subplot(3, 4, 12, sharey=ax1)\n",
    "male_highclass = data.Survived[data.Sex == 'male'][data.Pclass != 3].value_counts()\n",
    "male_highclass.plot(kind='bar', label='male, high class', color='steelblue', alpha=alpha_level)\n",
    "# ax4.set_xticklabels([\"Survived\", \"Died\"], rotation=0)\n",
    "ax7.set_xlim(-1, len(male_highclass))\n",
    "# plt.title(\"Who Survived? with respect to Gender and Class\");\n",
    "plt.legend(loc='best')"
   ]
  },
  {
   "cell_type": "markdown",
   "metadata": {},
   "source": [
    "# 数据处理\n",
    "    1.剔除passengerId, Ticket这个两个变量（不过先保留，用以预测错误的情况分析）\n",
    "    2.将Embarked变量补全，然后对Survied,Name,Sex,Embared进行one-hot编码\n",
    "    3.对Pclass,Fare,Sibsp和Parch进行归一化处理\n",
    "    4.根据Name,Sex,SibSp,Parch预测age将其补全\n",
    "    5.对age进行标准化处理\n",
    "    6.将未编码的Survied剔除当做目标变量\n",
    "    \n",
    "    通常的处理工作\n",
    "        \n",
    "        1.缺失数据处理\n",
    "        2.异常数据处理\n",
    "        3.数据标准化\n",
    "        4.数据特征变化\n",
    "        5.新特征\n",
    "        6.降维\n",
    "        7..."
   ]
  },
  {
   "cell_type": "markdown",
   "metadata": {},
   "source": [
    "## drop"
   ]
  },
  {
   "cell_type": "code",
   "execution_count": 7,
   "metadata": {
    "collapsed": true
   },
   "outputs": [],
   "source": [
    "data.drop(['Ticket'], axis=1, inplace=True)\n",
    "#补全Embarked变量\n",
    "data.loc[data.Embarked.isnull(), \"Embarked\"] = 'S'"
   ]
  },
  {
   "cell_type": "markdown",
   "metadata": {},
   "source": [
    "## one-hot编码"
   ]
  },
  {
   "cell_type": "code",
   "execution_count": 8,
   "metadata": {
    "collapsed": true
   },
   "outputs": [],
   "source": [
    "from sklearn.preprocessing import OneHotEncoder\n",
    "from sklearn.preprocessing import LabelEncoder\n",
    "\n",
    "le_sex = LabelEncoder().fit(data['Sex'])\n",
    "# print(le_sex)\n",
    "Sex_label = le_sex.transform(data['Sex'])\n",
    "# print(Sex_label)\n",
    "ohe_sex = OneHotEncoder(sparse=False).fit(Sex_label.reshape(-1, 1))\n",
    "# print(ohe_sex)\n",
    "Sex_ohe = ohe_sex.transform(Sex_label.reshape(-1, 1))\n",
    "# print(Sex_ohe)\n",
    "\n",
    "le_embarked = LabelEncoder().fit(data['Embarked'])\n",
    "Embarked_label = le_embarked.transform(data['Embarked'])\n",
    "ohe_embarked = OneHotEncoder(sparse=False).fit(Embarked_label.reshape(-1, 1))\n",
    "Embarked_ohe = ohe_embarked.transform(Embarked_label.reshape(-1, 1))"
   ]
  },
  {
   "cell_type": "code",
   "execution_count": 9,
   "metadata": {},
   "outputs": [
    {
     "data": {
      "text/plain": [
       "array([1, 0, 0, 0, 1, 1, 1, 1, 0, 0, 0, 0, 1, 1, 0, 0, 1, 1, 0, 0, 1, 1, 0,\n",
       "       1, 0, 0, 1, 1, 0, 1, 1, 0, 0, 1, 1, 1, 1, 1, 0, 0, 0, 0, 1, 0, 0, 1,\n",
       "       1, 0, 1, 0, 1, 1, 0, 0, 1, 1, 0, 1, 0, 1, 1, 0, 1, 1, 1, 1, 0, 1, 0,\n",
       "       1, 1, 0, 1, 1, 1, 1, 1, 1, 1, 0, 1, 1, 0, 1, 0, 0, 1, 1, 0, 1, 1, 1,\n",
       "       1, 1, 1, 1, 1, 1, 0, 1, 0, 1, 1, 1, 1, 1, 0, 1, 1, 0, 1, 0, 1, 0, 0,\n",
       "       1, 1, 1, 1, 0, 1, 1, 1, 0, 1, 1, 1, 1, 0, 1, 1, 1, 0, 0, 1, 1, 0, 1,\n",
       "       1, 1, 0, 0, 0, 1, 1, 1, 1, 0, 1, 1, 1, 0, 1, 1, 1, 1, 0, 1, 1, 1, 1,\n",
       "       0, 1, 1, 1, 1, 0, 0, 1, 1, 1, 1, 0, 1, 1, 1, 1, 0, 1, 1, 0, 1, 1, 1,\n",
       "       0, 1, 0, 1, 1, 1, 0, 1, 0, 1, 0, 0, 1, 1, 0, 0, 1, 1, 1, 1, 1, 0, 1,\n",
       "       1, 0, 1, 1, 0, 1, 1, 1, 0, 0, 1, 0, 1, 1, 1, 1, 1, 1, 1, 1, 1, 1, 0,\n",
       "       0, 1, 1, 0, 1, 0, 1, 0, 1, 1, 0, 0, 1, 1, 1, 1, 0, 0, 1, 1, 1, 0, 1,\n",
       "       1, 0, 0, 0, 0, 0, 0, 1, 1, 1, 1, 0, 1, 1, 1, 0, 0, 1, 1, 0, 1, 0, 0,\n",
       "       0, 1, 1, 0, 1, 1, 1, 1, 1, 1, 1, 1, 1, 0, 0, 0, 1, 0, 1, 1, 1, 0, 1,\n",
       "       0, 0, 1, 1, 0, 1, 1, 0, 0, 1, 0, 0, 0, 0, 1, 1, 0, 0, 1, 0, 0, 1, 1,\n",
       "       0, 0, 1, 0, 1, 0, 0, 0, 0, 1, 1, 1, 0, 1, 1, 0, 1, 1, 1, 0, 1, 1, 1,\n",
       "       0, 0, 0, 1, 1, 1, 1, 1, 1, 1, 1, 0, 0, 0, 0, 1, 1, 0, 1, 1, 1, 0, 0,\n",
       "       0, 0, 1, 1, 1, 1, 0, 0, 0, 1, 1, 1, 0, 0, 1, 0, 1, 1, 1, 0, 1, 0, 1,\n",
       "       1, 1, 0, 0, 1, 0, 1, 1, 0, 1, 1, 0, 1, 0, 1, 1, 1, 1, 0, 1, 1, 0, 1,\n",
       "       1, 0, 0, 0, 1, 0, 1, 1, 1, 0, 1, 1, 0, 0, 1, 1, 1, 0, 0, 1, 1, 0, 0,\n",
       "       0, 1, 1, 0, 1, 1, 0, 1, 1, 0, 1, 0, 1, 1, 1, 1, 1, 1, 1, 1, 0, 0, 1,\n",
       "       1, 1, 1, 1, 1, 1, 1, 1, 1, 0, 1, 1, 0, 0, 0, 1, 1, 1, 1, 0, 1, 1, 1,\n",
       "       0, 1, 0, 0, 1, 1, 1, 1, 1, 1, 1, 1, 1, 0, 1, 0, 1, 1, 0, 0, 0, 0, 1,\n",
       "       0, 1, 1, 1, 1, 1, 1, 0, 1, 1, 0, 1, 0, 1, 0, 1, 1, 0, 1, 1, 0, 1, 1,\n",
       "       1, 0, 1, 1, 0, 0, 0, 1, 0, 1, 0, 0, 0, 0, 1, 1, 1, 0, 1, 1, 1, 1, 1,\n",
       "       1, 1, 0, 1, 0, 1, 0, 0, 1, 1, 1, 1, 0, 1, 1, 0, 1, 1, 1, 0, 1, 0, 1,\n",
       "       1, 0, 0, 0, 1, 0, 0, 1, 1, 1, 0, 1, 1, 1, 1, 1, 0, 1, 0, 1, 1, 0, 1,\n",
       "       1, 1, 0, 1, 1, 1, 1, 1, 1, 1, 0, 0, 0, 1, 0, 1, 1, 0, 1, 0, 0, 1, 1,\n",
       "       1, 1, 1, 1, 1, 1, 0, 1, 1, 1, 1, 1, 1, 0, 0, 1, 1, 0, 1, 1, 0, 0, 1,\n",
       "       0, 1, 1, 1, 1, 0, 1, 0, 1, 0, 0, 1, 1, 0, 1, 1, 1, 1, 1, 1, 1, 1, 1,\n",
       "       1, 1, 0, 0, 1, 1, 1, 1, 1, 1, 0, 0, 1, 0, 1, 1, 1, 1, 1, 1, 1, 1, 0,\n",
       "       1, 0, 1, 1, 1, 1, 1, 0, 1, 1, 0, 1, 0, 1, 1, 1, 0, 1, 0, 1, 0, 1, 1,\n",
       "       1, 1, 1, 0, 0, 1, 1, 0, 1, 1, 1, 1, 1, 0, 0, 1, 0, 0, 1, 1, 1, 1, 1,\n",
       "       0, 1, 1, 1, 1, 1, 0, 1, 1, 1, 1, 0, 1, 1, 0, 1, 1, 1, 0, 1, 1, 1, 1,\n",
       "       0, 1, 1, 1, 0, 1, 0, 1, 0, 1, 1, 1, 1, 0, 1, 0, 1, 1, 0, 1, 0, 0, 0,\n",
       "       1, 1, 1, 1, 0, 1, 1, 1, 1, 1, 0, 1, 1, 1, 0, 0, 1, 0, 1, 0, 1, 1, 1,\n",
       "       1, 1, 0, 1, 0, 1, 1, 1, 0, 1, 1, 0, 1, 1, 1, 0, 1, 1, 0, 1, 1, 1, 1,\n",
       "       1, 0, 0, 1, 1, 1, 1, 0, 1, 1, 1, 1, 1, 1, 0, 1, 1, 1, 1, 1, 1, 0, 1,\n",
       "       1, 0, 0, 0, 0, 0, 1, 0, 1, 1, 1, 0, 0, 1, 0, 0, 1, 1, 1, 1, 0, 1, 1,\n",
       "       0, 0, 1, 1, 1, 0, 0, 1, 0, 1, 1, 0, 1, 0, 0, 1, 1], dtype=int64)"
      ]
     },
     "execution_count": 9,
     "metadata": {},
     "output_type": "execute_result"
    }
   ],
   "source": [
    "Sex_label"
   ]
  },
  {
   "cell_type": "code",
   "execution_count": 10,
   "metadata": {},
   "outputs": [
    {
     "data": {
      "text/plain": [
       "array([[ 0.,  1.],\n",
       "       [ 1.,  0.],\n",
       "       [ 1.,  0.],\n",
       "       ..., \n",
       "       [ 1.,  0.],\n",
       "       [ 0.,  1.],\n",
       "       [ 0.,  1.]])"
      ]
     },
     "execution_count": 10,
     "metadata": {},
     "output_type": "execute_result"
    }
   ],
   "source": [
    "Sex_ohe"
   ]
  },
  {
   "cell_type": "code",
   "execution_count": 11,
   "metadata": {
    "collapsed": true
   },
   "outputs": [],
   "source": [
    "#把name替换成Mrs,Mr,Miss\n",
    "def replace_name(x):\n",
    "    if 'Mrs' in x:\n",
    "        return 'Mrs'\n",
    "    elif 'Mr' in x:\n",
    "        return 'Mr'\n",
    "    else:\n",
    "        return 'Miss'\n",
    "\n",
    "data['Name'] = data['Name'].map(lambda x:replace_name(x))\n",
    "le_name = LabelEncoder().fit(data['Name'])\n",
    "Name_label = le_name.transform(data['Name'])\n",
    "ohe_name = OneHotEncoder(sparse=False).fit(Name_label.reshape(-1, 1))\n",
    "Name_ohe = ohe_name.transform(Name_label.reshape(-1, 1))"
   ]
  },
  {
   "cell_type": "code",
   "execution_count": 12,
   "metadata": {},
   "outputs": [
    {
     "data": {
      "text/plain": [
       "array([[ 0.,  1.,  0.],\n",
       "       [ 0.,  0.,  1.],\n",
       "       [ 1.,  0.,  0.],\n",
       "       ..., \n",
       "       [ 1.,  0.,  0.],\n",
       "       [ 0.,  1.,  0.],\n",
       "       [ 0.,  1.,  0.]])"
      ]
     },
     "execution_count": 12,
     "metadata": {},
     "output_type": "execute_result"
    }
   ],
   "source": [
    "Name_ohe"
   ]
  },
  {
   "cell_type": "code",
   "execution_count": 13,
   "metadata": {
    "collapsed": true
   },
   "outputs": [],
   "source": [
    "data['Sex_0'] = Sex_ohe[:, 0]\n",
    "data['Sex_1'] = Sex_ohe[:, 1]\n",
    "data['Embarked_0'] = Embarked_ohe[:, 0]\n",
    "data['Embarked_1'] = Embarked_ohe[:, 1]\n",
    "data['Embarked_2'] = Embarked_ohe[:, 2]\n",
    "data['Name_0'] = Name_ohe[:, 0]\n",
    "data['Name_1'] = Name_ohe[:, 1]\n",
    "data['Name_2'] = Name_ohe[:, 2]"
   ]
  },
  {
   "cell_type": "code",
   "execution_count": 14,
   "metadata": {
    "collapsed": true
   },
   "outputs": [],
   "source": [
    "data['Pclass'] = data['Pclass'].astype(str)"
   ]
  },
  {
   "cell_type": "code",
   "execution_count": 15,
   "metadata": {
    "collapsed": true
   },
   "outputs": [],
   "source": [
    "ohe_pclass = OneHotEncoder(sparse=False).fit(data['Pclass'].values.reshape(-1, 1))\n",
    "class_ohe = ohe_pclass.transform(data['Pclass'].values.reshape(-1, 1))\n",
    "data['Pclass_0'] = class_ohe[:, 0]\n",
    "data['Pclass_1'] = class_ohe[:, 1]\n",
    "data['Pclass_2'] = class_ohe[:, 2]"
   ]
  },
  {
   "cell_type": "code",
   "execution_count": 16,
   "metadata": {},
   "outputs": [
    {
     "data": {
      "text/plain": [
       "array([[ 0.,  0.,  1.],\n",
       "       [ 1.,  0.,  0.],\n",
       "       [ 0.,  0.,  1.],\n",
       "       ..., \n",
       "       [ 0.,  0.,  1.],\n",
       "       [ 1.,  0.,  0.],\n",
       "       [ 0.,  0.,  1.]])"
      ]
     },
     "execution_count": 16,
     "metadata": {},
     "output_type": "execute_result"
    }
   ],
   "source": [
    "class_ohe"
   ]
  },
  {
   "cell_type": "markdown",
   "metadata": {},
   "source": [
    "## 数据标准化"
   ]
  },
  {
   "cell_type": "code",
   "execution_count": 17,
   "metadata": {},
   "outputs": [
    {
     "data": {
      "text/plain": [
       "0        7.2500\n",
       "1       71.2833\n",
       "2        7.9250\n",
       "3       53.1000\n",
       "4        8.0500\n",
       "5        8.4583\n",
       "6       51.8625\n",
       "7       21.0750\n",
       "8       11.1333\n",
       "9       30.0708\n",
       "10      16.7000\n",
       "11      26.5500\n",
       "12       8.0500\n",
       "13      31.2750\n",
       "14       7.8542\n",
       "15      16.0000\n",
       "16      29.1250\n",
       "17      13.0000\n",
       "18      18.0000\n",
       "19       7.2250\n",
       "20      26.0000\n",
       "21      13.0000\n",
       "22       8.0292\n",
       "23      35.5000\n",
       "24      21.0750\n",
       "25      31.3875\n",
       "26       7.2250\n",
       "27     263.0000\n",
       "28       7.8792\n",
       "29       7.8958\n",
       "         ...   \n",
       "861     11.5000\n",
       "862     25.9292\n",
       "863     69.5500\n",
       "864     13.0000\n",
       "865     13.0000\n",
       "866     13.8583\n",
       "867     50.4958\n",
       "868      9.5000\n",
       "869     11.1333\n",
       "870      7.8958\n",
       "871     52.5542\n",
       "872      5.0000\n",
       "873      9.0000\n",
       "874     24.0000\n",
       "875      7.2250\n",
       "876      9.8458\n",
       "877      7.8958\n",
       "878      7.8958\n",
       "879     83.1583\n",
       "880     26.0000\n",
       "881      7.8958\n",
       "882     10.5167\n",
       "883     10.5000\n",
       "884      7.0500\n",
       "885     29.1250\n",
       "886     13.0000\n",
       "887     30.0000\n",
       "888     23.4500\n",
       "889     30.0000\n",
       "890      7.7500\n",
       "Name: Fare, Length: 891, dtype: float64"
      ]
     },
     "execution_count": 17,
     "metadata": {},
     "output_type": "execute_result"
    }
   ],
   "source": [
    "data['Fare']"
   ]
  },
  {
   "cell_type": "code",
   "execution_count": 18,
   "metadata": {},
   "outputs": [
    {
     "name": "stderr",
     "output_type": "stream",
     "text": [
      "D:\\pr1\\Anaconda3\\lib\\site-packages\\sklearn\\utils\\validation.py:475: DataConversionWarning: Data with input dtype int64 was converted to float64 by StandardScaler.\n",
      "  warnings.warn(msg, DataConversionWarning)\n"
     ]
    }
   ],
   "source": [
    "from sklearn.preprocessing import StandardScaler\n",
    "data['Fare_scaled'] = StandardScaler().fit_transform(data['Fare'].values.reshape(-1, 1))\n",
    "data['SibSp_scaled'] = StandardScaler().fit_transform(data['SibSp'].values.reshape(-1, 1))\n",
    "data['Parch_scaled'] = StandardScaler().fit_transform(data['Parch'].values.reshape(-1, 1))"
   ]
  },
  {
   "cell_type": "code",
   "execution_count": 19,
   "metadata": {},
   "outputs": [
    {
     "data": {
      "text/plain": [
       "0     -0.502445\n",
       "1      0.786845\n",
       "2     -0.488854\n",
       "3      0.420730\n",
       "4     -0.486337\n",
       "5     -0.478116\n",
       "6      0.395814\n",
       "7     -0.224083\n",
       "8     -0.424256\n",
       "9     -0.042956\n",
       "10    -0.312172\n",
       "11    -0.113846\n",
       "12    -0.486337\n",
       "13    -0.018709\n",
       "14    -0.490280\n",
       "15    -0.326267\n",
       "16    -0.061999\n",
       "17    -0.386671\n",
       "18    -0.285997\n",
       "19    -0.502949\n",
       "20    -0.124920\n",
       "21    -0.386671\n",
       "22    -0.486756\n",
       "23     0.066360\n",
       "24    -0.224083\n",
       "25    -0.016444\n",
       "26    -0.502949\n",
       "27     4.647001\n",
       "28    -0.489776\n",
       "29    -0.489442\n",
       "         ...   \n",
       "861   -0.416873\n",
       "862   -0.126345\n",
       "863    0.751946\n",
       "864   -0.386671\n",
       "865   -0.386671\n",
       "866   -0.369389\n",
       "867    0.368295\n",
       "868   -0.457142\n",
       "869   -0.424256\n",
       "870   -0.489442\n",
       "871    0.409741\n",
       "872   -0.547748\n",
       "873   -0.467209\n",
       "874   -0.165189\n",
       "875   -0.502949\n",
       "876   -0.450180\n",
       "877   -0.489442\n",
       "878   -0.489442\n",
       "879    1.025945\n",
       "880   -0.124920\n",
       "881   -0.489442\n",
       "882   -0.436671\n",
       "883   -0.437007\n",
       "884   -0.506472\n",
       "885   -0.061999\n",
       "886   -0.386671\n",
       "887   -0.044381\n",
       "888   -0.176263\n",
       "889   -0.044381\n",
       "890   -0.492378\n",
       "Name: Fare_scaled, Length: 891, dtype: float64"
      ]
     },
     "execution_count": 19,
     "metadata": {},
     "output_type": "execute_result"
    }
   ],
   "source": [
    "data['Fare_scaled']"
   ]
  },
  {
   "cell_type": "markdown",
   "metadata": {},
   "source": [
    "## 数据补全"
   ]
  },
  {
   "cell_type": "code",
   "execution_count": 20,
   "metadata": {},
   "outputs": [
    {
     "name": "stdout",
     "output_type": "stream",
     "text": [
      "0.525928011766\n"
     ]
    }
   ],
   "source": [
    "#预测年龄并补全\n",
    "from sklearn.ensemble import RandomForestRegressor\n",
    "\n",
    "def set_missing_age(data):\n",
    "    train = data[['Age', \"SibSp_scaled\", 'Parch_scaled', 'Name_0', \"Name_2\", 'Sex_0', 'Sex_1', 'Pclass_0', 'Pclass_1', 'Pclass_2']]\n",
    "    known_age = train[train.Age.notnull()].as_matrix()\n",
    "    unknown_age = train[train.Age.isnull()].as_matrix()\n",
    "    y = known_age[:, 0]\n",
    "    x = known_age[:, 1:]\n",
    "    rf = RandomForestRegressor(random_state=0, n_estimators=200, n_jobs=-1)\n",
    "    rf.fit(x, y)\n",
    "    print(rf.score(x, y))\n",
    "    predictage = rf.predict(unknown_age[:, 1:])\n",
    "    data.loc[data.Age.isnull(), 'Age'] = predictage\n",
    "    return data, rf\n",
    "\n",
    "data, rf = set_missing_age(data)\n",
    "data['Age_scaled'] =StandardScaler().fit_transform(data['Age'].values.reshape(-1, 1))"
   ]
  },
  {
   "cell_type": "code",
   "execution_count": 21,
   "metadata": {
    "collapsed": true
   },
   "outputs": [],
   "source": [
    "train_x = data[['Sex_0', 'Sex_1', 'Embarked_0', 'Embarked_1', 'Embarked_2', 'Name_0', \"Name_2\", 'Pclass_0', 'Pclass_1', 'Pclass_2', 'Age_scaled',\n",
    "              'Fare_scaled', 'SibSp_scaled', 'Parch_scaled', 'PassengerId']].as_matrix()\n",
    "train_y = data['Survived'].as_matrix()"
   ]
  },
  {
   "cell_type": "markdown",
   "metadata": {},
   "source": [
    "## modeling"
   ]
  },
  {
   "cell_type": "code",
   "execution_count": 22,
   "metadata": {},
   "outputs": [
    {
     "data": {
      "text/plain": [
       "(891, 14)"
      ]
     },
     "execution_count": 22,
     "metadata": {},
     "output_type": "execute_result"
    }
   ],
   "source": [
    "train_x[:, :-1].shape"
   ]
  },
  {
   "cell_type": "code",
   "execution_count": 23,
   "metadata": {},
   "outputs": [
    {
     "name": "stdout",
     "output_type": "stream",
     "text": [
      "0.805970149254\n",
      "0.820895522388\n",
      "0.832089552239\n",
      "0.80223880597\n"
     ]
    }
   ],
   "source": [
    "#模型构造\n",
    "from sklearn.model_selection import  train_test_split\n",
    "from sklearn.linear_model import LogisticRegression\n",
    "\n",
    "x_tr_i, x_te_i, y_tr, y_te = train_test_split(train_x, train_y, test_size=0.3, random_state=0)\n",
    "x_tr = x_tr_i[:, :-1]\n",
    "x_te = x_te_i[:, :-1]\n",
    "\n",
    "lr = LogisticRegression(C=1.0, tol=1e-6)\n",
    "lr.fit(x_tr, y_tr)\n",
    "print(lr.score(x_te, y_te))\n",
    "\n",
    "from sklearn.svm import SVC\n",
    "svc = SVC(C=2, kernel='rbf', decision_function_shape='ovo')\n",
    "svc.fit(x_tr, y_tr)\n",
    "print(svc.score(x_te, y_te))\n",
    "\n",
    "from sklearn.ensemble import RandomForestClassifier\n",
    "randomf = RandomForestClassifier(n_estimators=100, max_depth=5, random_state=0)\n",
    "randomf.fit(x_tr, y_tr)\n",
    "print(randomf.score(x_te, y_te))\n",
    "\n",
    "from sklearn.ensemble import GradientBoostingClassifier\n",
    "gdbt = GradientBoostingClassifier(n_estimators=600, max_depth=5, random_state=6)\n",
    "gdbt.fit(x_tr, y_tr)\n",
    "print(gdbt.score(x_te, y_te))"
   ]
  },
  {
   "cell_type": "markdown",
   "metadata": {},
   "source": [
    "## 优化"
   ]
  },
  {
   "cell_type": "code",
   "execution_count": 24,
   "metadata": {
    "collapsed": true
   },
   "outputs": [],
   "source": [
    "import numpy as np\n",
    "\n",
    "from time import time\n",
    "from scipy.stats import randint as sp_randint\n",
    "\n",
    "from sklearn.model_selection import GridSearchCV\n",
    "from sklearn.model_selection import RandomizedSearchCV"
   ]
  },
  {
   "cell_type": "markdown",
   "metadata": {},
   "source": [
    "### grid search"
   ]
  },
  {
   "cell_type": "code",
   "execution_count": 25,
   "metadata": {
    "collapsed": true
   },
   "outputs": [],
   "source": [
    "#Utility function to report best scores\n",
    "def report(results, n_top=3):\n",
    "    for i in range(1, n_top + 1):\n",
    "        candidates = np.flatnonzero(results['rank_test_score'] == i)\n",
    "        for candidate in candidates:\n",
    "            print('Model with rank: {0}'.format(i))\n",
    "            print(\"Mean validation score: {0:.3f}(std:{1:.3f})\".format(\n",
    "                results['mean_test_score'][candidate],\n",
    "                results['std_test_score'][candidate]))\n",
    "            print(\"Parameters:{0}\".format(results['params'][candidate]))\n",
    "            print(\"\")"
   ]
  },
  {
   "cell_type": "code",
   "execution_count": 26,
   "metadata": {},
   "outputs": [
    {
     "name": "stdout",
     "output_type": "stream",
     "text": [
      "Hyperparameter optimization using GridSearchCV...\n",
      "GridSearchCV took 85.80 seconds for 162 candidate parameter settings.\n"
     ]
    }
   ],
   "source": [
    "sqrtfeat = int(np.sqrt(x_tr.shape[1]))\n",
    "\n",
    "#Simple grid test\n",
    "grid_test = {\"n_estimators\":[100, 200, 500],\n",
    "            \"criterion\"    :['gini', 'entropy'],\n",
    "            \"max_features\" :[sqrtfeat - 1, sqrtfeat, sqrtfeat + 1],\n",
    "            \"max_depth\"    :[5, 10, 25],\n",
    "            \"min_samples_split\":[2, 5, 10]}\n",
    "\n",
    "forest = RandomForestClassifier(oob_score=True)\n",
    "\n",
    "print(\"Hyperparameter optimization using GridSearchCV...\")\n",
    "\n",
    "grid_search = GridSearchCV(forest, grid_test, n_jobs=-1, cv=3)\n",
    "start = time()\n",
    "grid_search.fit(x_tr, y_tr)\n",
    "print(\"GridSearchCV took %.2f seconds for %d candidate parameter settings.\"%(time() - start, len(grid_search.cv_results_['params'])))"
   ]
  },
  {
   "cell_type": "code",
   "execution_count": 27,
   "metadata": {},
   "outputs": [
    {
     "name": "stdout",
     "output_type": "stream",
     "text": [
      "Model with rank: 1\n",
      "Mean validation score: 0.823(std:0.021)\n",
      "Parameters:{'criterion': 'gini', 'max_depth': 10, 'max_features': 4, 'min_samples_split': 5, 'n_estimators': 100}\n",
      "\n",
      "Model with rank: 1\n",
      "Mean validation score: 0.823(std:0.015)\n",
      "Parameters:{'criterion': 'entropy', 'max_depth': 10, 'max_features': 4, 'min_samples_split': 10, 'n_estimators': 100}\n",
      "\n",
      "Model with rank: 3\n",
      "Mean validation score: 0.822(std:0.014)\n",
      "Parameters:{'criterion': 'gini', 'max_depth': 5, 'max_features': 4, 'min_samples_split': 2, 'n_estimators': 200}\n",
      "\n",
      "Model with rank: 3\n",
      "Mean validation score: 0.822(std:0.017)\n",
      "Parameters:{'criterion': 'gini', 'max_depth': 10, 'max_features': 4, 'min_samples_split': 10, 'n_estimators': 200}\n",
      "\n",
      "Model with rank: 3\n",
      "Mean validation score: 0.822(std:0.014)\n",
      "Parameters:{'criterion': 'entropy', 'max_depth': 5, 'max_features': 4, 'min_samples_split': 5, 'n_estimators': 200}\n",
      "\n",
      "Model with rank: 3\n",
      "Mean validation score: 0.822(std:0.017)\n",
      "Parameters:{'criterion': 'entropy', 'max_depth': 25, 'max_features': 4, 'min_samples_split': 10, 'n_estimators': 200}\n",
      "\n"
     ]
    }
   ],
   "source": [
    "report(grid_search.cv_results_)"
   ]
  },
  {
   "cell_type": "code",
   "execution_count": 28,
   "metadata": {},
   "outputs": [
    {
     "name": "stdout",
     "output_type": "stream",
     "text": [
      "0.828358208955\n"
     ]
    }
   ],
   "source": [
    "print(grid_search.score(x_te, y_te))"
   ]
  },
  {
   "cell_type": "code",
   "execution_count": 166,
   "metadata": {},
   "outputs": [
    {
     "name": "stdout",
     "output_type": "stream",
     "text": [
      "RandomSearchCV took 23.12 seconds for 20 candidate parameter settings.\n",
      "Model with rank: 1\n",
      "Mean validation score: 0.825(std:0.013)\n",
      "Parameters:{'n_estimators': 200, 'min_samples_split': 4, 'max_features': 5, 'max_depth': 6.0, 'criterion': 'entropy'}\n",
      "\n",
      "Model with rank: 1\n",
      "Mean validation score: 0.825(std:0.010)\n",
      "Parameters:{'n_estimators': 500, 'min_samples_split': 7, 'max_features': 6, 'max_depth': 5.0, 'criterion': 'entropy'}\n",
      "\n",
      "Model with rank: 1\n",
      "Mean validation score: 0.825(std:0.009)\n",
      "Parameters:{'n_estimators': 500, 'min_samples_split': 7, 'max_features': 5, 'max_depth': 6.0, 'criterion': 'entropy'}\n",
      "\n"
     ]
    }
   ],
   "source": [
    "random_test1 = {\"n_estimators\":[100, 200, 500],\n",
    "                \"criterion\"    :['gini', 'entropy'],\n",
    "                \"max_features\" :np.rint(np.linspace(sqrtfeat/2, sqrtfeat*2, 5)).astype(int),\n",
    "                \"max_depth\"    :np.rint(np.linspace(1, x_tr.shape[1]/2, 10)),\n",
    "                \"min_samples_split\":np.rint(np.linspace(2, x_tr.shape[0]/50, 10)).astype(int)}\n",
    "\n",
    "n_iter_search = 20\n",
    "random_search = RandomizedSearchCV(forest, param_distributions=random_test1, n_iter=n_iter_search)\n",
    "\n",
    "start = time()\n",
    "random_search.fit(x_tr,y_tr)\n",
    "print(\"RandomSearchCV took %.2f seconds for %d candidate parameter settings.\"%(time() - start, n_iter_search))\n",
    "report(random_search.cv_results_)"
   ]
  },
  {
   "cell_type": "code",
   "execution_count": 167,
   "metadata": {},
   "outputs": [
    {
     "name": "stdout",
     "output_type": "stream",
     "text": [
      "0.820895522388\n"
     ]
    }
   ],
   "source": [
    "print(random_search.score(x_te, y_te))"
   ]
  },
  {
   "cell_type": "code",
   "execution_count": 168,
   "metadata": {},
   "outputs": [
    {
     "name": "stdout",
     "output_type": "stream",
     "text": [
      "             precision    recall  f1-score   support\n",
      "\n",
      "          0       0.85      0.88      0.87       168\n",
      "          1       0.79      0.74      0.76       100\n",
      "\n",
      "avg / total       0.83      0.83      0.83       268\n",
      "\n"
     ]
    }
   ],
   "source": [
    "from sklearn.metrics import classification_report\n",
    "print(classification_report(y_te, grid_search.predict(x_te)))"
   ]
  },
  {
   "cell_type": "code",
   "execution_count": 169,
   "metadata": {},
   "outputs": [
    {
     "name": "stdout",
     "output_type": "stream",
     "text": [
      "             precision    recall  f1-score   support\n",
      "\n",
      "          0       0.84      0.88      0.86       168\n",
      "          1       0.78      0.72      0.75       100\n",
      "\n",
      "avg / total       0.82      0.82      0.82       268\n",
      "\n"
     ]
    }
   ],
   "source": [
    "print(classification_report(y_te, random_search.predict(x_te)))"
   ]
  },
  {
   "cell_type": "markdown",
   "metadata": {},
   "source": [
    "## learning curve"
   ]
  },
  {
   "cell_type": "code",
   "execution_count": 29,
   "metadata": {
    "collapsed": true
   },
   "outputs": [],
   "source": [
    "from sklearn.model_selection import learning_curve"
   ]
  },
  {
   "cell_type": "code",
   "execution_count": 30,
   "metadata": {},
   "outputs": [
    {
     "data": {
      "image/png": "[encoded data removed]",
      "text/plain": [
       "<matplotlib.figure.Figure at 0x26159f29240>"
      ]
     },
     "metadata": {},
     "output_type": "display_data"
    }
   ],
   "source": [
    "import matplotlib.pyplot as plt\n",
    "from sklearn.model_selection import learning_curve\n",
    "\n",
    "#assume classifier and training data is prepared...\n",
    "\n",
    "train_sizes, train_scores, test_scores = learning_curve(\n",
    "    forest, x_tr, y_tr, cv=10, n_jobs=-1, train_sizes=np.linspace(.1, 1., 10), verbose=0)\n",
    "\n",
    "train_scores_mean = np.mean(train_scores, axis=1)\n",
    "train_scores_std = np.std(train_scores, axis=1)\n",
    "test_scores_mean = np.mean(test_scores, axis=1)\n",
    "test_scores_std = np.std(test_scores, axis=1)\n",
    "\n",
    "plt.figure()\n",
    "plt.title(\"RandomForestClassifier\")\n",
    "plt.xlabel(\"Training examples\")\n",
    "plt.ylabel(\"Score\")\n",
    "plt.ylim(0.6, 1.01)\n",
    "plt.grid()\n",
    "plt.gca().invert_yaxis()\n",
    "\n",
    "#Plot the average training and test score lines at each training set size\n",
    "plt.plot(train_sizes, train_scores_mean, 'o-', color='b', label=\"Training scores\")\n",
    "plt.plot(train_sizes, test_scores_mean, 'o-', color='r', label=\"Test scores\")\n",
    "plt.legend(loc='best')\n",
    "\n",
    "#plot the std deviation as a transparent range at each training set size\n",
    "plt.fill_between(train_sizes, train_scores_mean - train_scores_std, train_scores_mean + train_scores_std, alpha=0.1, color='b')\n",
    "plt.fill_between(train_sizes, test_scores_mean - test_scores_std, test_scores_mean + test_scores_std, alpha=0.1, color='r')\n",
    "\n",
    "plt.gca().invert_yaxis()"
   ]
  },
  {
   "cell_type": "code",
   "execution_count": 31,
   "metadata": {},
   "outputs": [
    {
     "data": {
      "image/png": "[encoded data removed]",
      "text/plain": [
       "<matplotlib.figure.Figure at 0x26162300e10>"
      ]
     },
     "metadata": {},
     "output_type": "display_data"
    }
   ],
   "source": [
    "train_sizes, train_scores, test_scores = learning_curve(\n",
    "    forest, x_tr, y_tr, cv=10, n_jobs=-1, train_sizes=np.linspace(.01, 1., 100), verbose=0)\n",
    "\n",
    "train_scores_mean = np.mean(train_scores, axis=1)\n",
    "train_scores_std = np.std(train_scores, axis=1)\n",
    "test_scores_mean = np.mean(test_scores, axis=1)\n",
    "test_scores_std = np.std(test_scores, axis=1)\n",
    "\n",
    "plt.figure()\n",
    "plt.title(\"RandomForestClassifier\")\n",
    "plt.xlabel(\"Training examples\")\n",
    "plt.ylabel(\"Score\")\n",
    "plt.ylim(0.6, 1.01)\n",
    "plt.grid()\n",
    "plt.gca().invert_yaxis()\n",
    "\n",
    "#Plot the average training and test score lines at each training set size\n",
    "plt.plot(train_sizes, train_scores_mean, 'o-', color='b', label=\"Training scores\")\n",
    "plt.plot(train_sizes, test_scores_mean, 'o-', color='r', label=\"Test scores\")\n",
    "plt.legend(loc='best')\n",
    "\n",
    "#plot the std deviation as a transparent range at each training set size\n",
    "plt.fill_between(train_sizes, train_scores_mean - train_scores_std, train_scores_mean + train_scores_std, alpha=0.1, color='b')\n",
    "plt.fill_between(train_sizes, test_scores_mean - test_scores_std, test_scores_mean + test_scores_std, alpha=0.1, color='r')\n",
    "\n",
    "plt.gca().invert_yaxis()"
   ]
  },
  {
   "cell_type": "markdown",
   "metadata": {},
   "source": [
    "## roc"
   ]
  },
  {
   "cell_type": "code",
   "execution_count": 32,
   "metadata": {},
   "outputs": [
    {
     "name": "stdout",
     "output_type": "stream",
     "text": [
      "ROC AUC:0.85\n"
     ]
    },
    {
     "name": "stderr",
     "output_type": "stream",
     "text": [
      "D:\\pr1\\Anaconda3\\lib\\site-packages\\sklearn\\ensemble\\forest.py:453: UserWarning: Some inputs do not have OOB scores. This probably means too few trees were used to compute any reliable oob estimates.\n",
      "  warn(\"Some inputs do not have OOB scores. \"\n",
      "D:\\pr1\\Anaconda3\\lib\\site-packages\\sklearn\\ensemble\\forest.py:458: RuntimeWarning: invalid value encountered in true_divide\n",
      "  predictions[k].sum(axis=1)[:, np.newaxis])\n"
     ]
    },
    {
     "data": {
      "text/plain": [
       "<matplotlib.legend.Legend at 0x261621ea208>"
      ]
     },
     "execution_count": 32,
     "metadata": {},
     "output_type": "execute_result"
    },
    {
     "data": {
      "image/png": "[encoded data removed]",
      "text/plain": [
       "<matplotlib.figure.Figure at 0x26161c5c390>"
      ]
     },
     "metadata": {},
     "output_type": "display_data"
    }
   ],
   "source": [
    "from sklearn.metrics import roc_curve, auc\n",
    "\n",
    "#shuffle and split training and sets\n",
    "X_train, X_test, y_train, y_test = train_test_split(x_tr, y_tr, test_size=.1)\n",
    "forest.fit(X_train, y_train)\n",
    "\n",
    "#Determine the false positive and true positive rates\n",
    "fpr, tpr, _ = roc_curve(y_test, forest.predict_proba(X_test)[:, 1])\n",
    "\n",
    "#Calculate hte AUC\n",
    "roc_auc = auc(fpr, tpr)\n",
    "print(\"ROC AUC:%0.2f\" % roc_auc)\n",
    "\n",
    "#plot of a ROC curve for a specific class\n",
    "plt.figure()\n",
    "plt.plot(fpr, tpr, label=\"ROC curve (area = %0.2f)\" % roc_auc)\n",
    "plt.plot([0, 1], [0, 1], 'k--')\n",
    "plt.xlim([0.0, 1.0])\n",
    "plt.ylim([0.0, 1.05])\n",
    "plt.xlabel(\"False Positive Rate\")\n",
    "plt.ylabel(\"True Positive Rate\")\n",
    "plt.title(\"ROC Curve\")\n",
    "plt.legend(loc=\"lower right\")"
   ]
  },
  {
   "cell_type": "markdown",
   "metadata": {},
   "source": [
    "## stacking"
   ]
  },
  {
   "cell_type": "code",
   "execution_count": 33,
   "metadata": {},
   "outputs": [
    {
     "name": "stdout",
     "output_type": "stream",
     "text": [
      "0.824626865672\n"
     ]
    }
   ],
   "source": [
    "from sklearn.ensemble import VotingClassifier\n",
    "\n",
    "model = VotingClassifier(estimators=[('lr', lr), ('svc', svc), ('rf', randomf), ('GDBT', gdbt)], voting='hard', weights=[0.5, 1.5, 0.6, 0.6])\n",
    "model.fit(x_tr, y_tr)\n",
    "print(model.score(x_te, y_te))"
   ]
  },
  {
   "cell_type": "markdown",
   "metadata": {},
   "source": [
    "# 预测"
   ]
  },
  {
   "cell_type": "code",
   "execution_count": 34,
   "metadata": {},
   "outputs": [
    {
     "name": "stderr",
     "output_type": "stream",
     "text": [
      "D:\\pr1\\Anaconda3\\lib\\site-packages\\sklearn\\utils\\validation.py:475: DataConversionWarning: Data with input dtype int64 was converted to float64 by StandardScaler.\n",
      "  warnings.warn(msg, DataConversionWarning)\n",
      "D:\\pr1\\Anaconda3\\lib\\site-packages\\ipykernel_launcher.py:50: FutureWarning: reshape is deprecated and will raise in a subsequent release. Please use .values.reshape(...) instead\n"
     ]
    }
   ],
   "source": [
    "#预测数据\n",
    "data_test = pd.read_csv('../../data/titanic/test.csv')\n",
    "\n",
    "data_test.drop(['Ticket'], axis=1, inplace=True)\n",
    "#补全Embarked变量\n",
    "data_test.loc[data_test.Embarked.isnull(), \"Embarked\"] = 'S'\n",
    "\n",
    "le_sex = LabelEncoder().fit(data_test['Sex'])\n",
    "Sex_label = le_sex.transform(data_test['Sex'])\n",
    "ohe_sex = OneHotEncoder(sparse=False).fit(Sex_label.reshape(-1, 1))\n",
    "Sex_ohe = ohe_sex.transform(Sex_label.reshape(-1, 1))\n",
    "\n",
    "le_embarked = LabelEncoder().fit(data_test['Embarked'])\n",
    "Embarked_label = le_embarked.transform(data_test['Embarked'])\n",
    "ohe_embarked = OneHotEncoder(sparse=False).fit(Embarked_label.reshape(-1, 1))\n",
    "Embarked_ohe = ohe_embarked.transform(Embarked_label.reshape(-1, 1))\n",
    "\n",
    "data_test['Name'] = data_test['Name'].map(lambda x:replace_name(x))\n",
    "le_name = LabelEncoder().fit(data_test['Name'])\n",
    "Name_label = le_name.transform(data_test['Name'])\n",
    "ohe_name = OneHotEncoder(sparse=False).fit(Name_label.reshape(-1, 1))\n",
    "Name_ohe = ohe_name.transform(Name_label.reshape(-1, 1))\n",
    "\n",
    "data_test['Sex_0'] = Sex_ohe[:, 0]\n",
    "data_test['Sex_1'] = Sex_ohe[:, 1]\n",
    "data_test['Embarked_0'] = Embarked_ohe[:, 0]\n",
    "data_test['Embarked_1'] = Embarked_ohe[:, 1]\n",
    "data_test['Embarked_2'] = Embarked_ohe[:, 2]\n",
    "data_test['Name_0'] = Name_ohe[:, 0]\n",
    "data_test['Name_1'] = Name_ohe[:, 1]\n",
    "data_test['Name_2'] = Name_ohe[:, 2]\n",
    "\n",
    "# data['Pclass'] = data['Pclass'].astype(str)\n",
    "\n",
    "ohe_pclass = OneHotEncoder(sparse=False).fit(data_test['Pclass'].values.reshape(-1, 1))\n",
    "class_ohe = ohe_pclass.transform(data_test['Pclass'].values.reshape(-1, 1))\n",
    "data_test['Pclass_0'] = class_ohe[:, 0]\n",
    "data_test['Pclass_1'] = class_ohe[:, 1]\n",
    "data_test['Pclass_2'] = class_ohe[:, 2]\n",
    "data_test.loc[data_test.Fare.isnull(), 'Fare'] = 0\n",
    "data_test['Fare_scaled'] = StandardScaler().fit_transform(data_test['Fare'].values.reshape(-1, 1))\n",
    "data_test['SibSp_scaled'] = StandardScaler().fit_transform(data_test['SibSp'].values.reshape(-1, 1))\n",
    "data_test['Parch_scaled'] = StandardScaler().fit_transform(data_test['Parch'].values.reshape(-1, 1))\n",
    "\n",
    "train_test = data_test[['Age', 'SibSp_scaled', 'Parch_scaled', 'Name_0', 'Name_2', 'Sex_0', 'Sex_1', 'Pclass_0', 'Pclass_1', 'Pclass_2']]\n",
    "unknown_age_test = train_test[train_test.Age.isnull()].as_matrix()\n",
    "x_test = unknown_age_test[:, 1:]\n",
    "predictage = rf.predict(x_test)\n",
    "data_test.loc[data_test.Age.isnull(), 'Age'] = predictage\n",
    "data_test['Age_scaled'] = StandardScaler().fit_transform(data_test['Age'].reshape(-1, 1))\n",
    "test_x = data_test[['Sex_0', 'Sex_1', 'Embarked_0', 'Embarked_1', 'Embarked_2', 'Name_0', \"Name_2\", 'Pclass_0', 'Pclass_1', 'Pclass_2', 'Age_scaled',\n",
    "              'Fare_scaled', 'SibSp_scaled', 'Parch_scaled']].as_matrix()\n",
    "predictions = grid_search.predict(test_x).astype(np.int32)\n",
    "result = pd.DataFrame({'PassengerId':data_test['PassengerId'].as_matrix(), 'Survived':predictions})\n",
    "result.to_csv('result.csv', index=False)"
   ]
  },
  {
   "cell_type": "code",
   "execution_count": 271,
   "metadata": {},
   "outputs": [
    {
     "data": {
      "text/plain": [
       "0       892\n",
       "1       893\n",
       "2       894\n",
       "3       895\n",
       "4       896\n",
       "5       897\n",
       "6       898\n",
       "7       899\n",
       "8       900\n",
       "9       901\n",
       "10      902\n",
       "11      903\n",
       "12      904\n",
       "13      905\n",
       "14      906\n",
       "15      907\n",
       "16      908\n",
       "17      909\n",
       "18      910\n",
       "19      911\n",
       "20      912\n",
       "21      913\n",
       "22      914\n",
       "23      915\n",
       "24      916\n",
       "25      917\n",
       "26      918\n",
       "27      919\n",
       "28      920\n",
       "29      921\n",
       "       ... \n",
       "388    1280\n",
       "389    1281\n",
       "390    1282\n",
       "391    1283\n",
       "392    1284\n",
       "393    1285\n",
       "394    1286\n",
       "395    1287\n",
       "396    1288\n",
       "397    1289\n",
       "398    1290\n",
       "399    1291\n",
       "400    1292\n",
       "401    1293\n",
       "402    1294\n",
       "403    1295\n",
       "404    1296\n",
       "405    1297\n",
       "406    1298\n",
       "407    1299\n",
       "408    1300\n",
       "409    1301\n",
       "410    1302\n",
       "411    1303\n",
       "412    1304\n",
       "413    1305\n",
       "414    1306\n",
       "415    1307\n",
       "416    1308\n",
       "417    1309\n",
       "Name: PassengerId, Length: 418, dtype: int64"
      ]
     },
     "execution_count": 271,
     "metadata": {},
     "output_type": "execute_result"
    }
   ],
   "source": [
    "data_test['PassengerId']"
   ]
  },
  {
   "cell_type": "code",
   "execution_count": null,
   "metadata": {
    "collapsed": true
   },
   "outputs": [],
   "source": []
  },
  {
   "cell_type": "markdown",
   "metadata": {},
   "source": [
    "# 意料之外"
   ]
  },
  {
   "cell_type": "code",
   "execution_count": 35,
   "metadata": {
    "collapsed": true
   },
   "outputs": [],
   "source": [
    "mask = grid_search.predict(train_x[:, :-1]) != train_y"
   ]
  },
  {
   "cell_type": "code",
   "execution_count": 36,
   "metadata": {
    "collapsed": true
   },
   "outputs": [],
   "source": [
    "o_data = pd.read_csv(\"../../data/titanic/train.csv\")"
   ]
  },
  {
   "cell_type": "code",
   "execution_count": 37,
   "metadata": {},
   "outputs": [
    {
     "data": {
      "text/plain": [
       "(100, 12)"
      ]
     },
     "execution_count": 37,
     "metadata": {},
     "output_type": "execute_result"
    }
   ],
   "source": [
    "o_data[mask].shape"
   ]
  },
  {
   "cell_type": "code",
   "execution_count": 38,
   "metadata": {
    "collapsed": true
   },
   "outputs": [],
   "source": [
    "wrong = o_data[mask]"
   ]
  },
  {
   "cell_type": "code",
   "execution_count": 39,
   "metadata": {
    "collapsed": true
   },
   "outputs": [],
   "source": [
    "wrong_p1 = wrong[wrong['Pclass'] == 1]"
   ]
  },
  {
   "cell_type": "code",
   "execution_count": 40,
   "metadata": {},
   "outputs": [
    {
     "data": {
      "text/html": [
       "<div>\n",
       "<style>\n",
       "    .dataframe thead tr:only-child th {\n",
       "        text-align: right;\n",
       "    }\n",
       "\n",
       "    .dataframe thead th {\n",
       "        text-align: left;\n",
       "    }\n",
       "\n",
       "    .dataframe tbody tr th {\n",
       "        vertical-align: top;\n",
       "    }\n",
       "</style>\n",
       "<table border=\"1\" class=\"dataframe\">\n",
       "  <thead>\n",
       "    <tr style=\"text-align: right;\">\n",
       "      <th></th>\n",
       "      <th>PassengerId</th>\n",
       "      <th>Survived</th>\n",
       "      <th>Pclass</th>\n",
       "      <th>Name</th>\n",
       "      <th>Sex</th>\n",
       "      <th>Age</th>\n",
       "      <th>SibSp</th>\n",
       "      <th>Parch</th>\n",
       "      <th>Ticket</th>\n",
       "      <th>Fare</th>\n",
       "      <th>Cabin</th>\n",
       "      <th>Embarked</th>\n",
       "    </tr>\n",
       "  </thead>\n",
       "  <tbody>\n",
       "    <tr>\n",
       "      <th>30</th>\n",
       "      <td>31</td>\n",
       "      <td>0</td>\n",
       "      <td>1</td>\n",
       "      <td>Uruchurtu, Don. Manuel E</td>\n",
       "      <td>male</td>\n",
       "      <td>40.0</td>\n",
       "      <td>0</td>\n",
       "      <td>0</td>\n",
       "      <td>PC 17601</td>\n",
       "      <td>27.7208</td>\n",
       "      <td>NaN</td>\n",
       "      <td>C</td>\n",
       "    </tr>\n",
       "    <tr>\n",
       "      <th>34</th>\n",
       "      <td>35</td>\n",
       "      <td>0</td>\n",
       "      <td>1</td>\n",
       "      <td>Meyer, Mr. Edgar Joseph</td>\n",
       "      <td>male</td>\n",
       "      <td>28.0</td>\n",
       "      <td>1</td>\n",
       "      <td>0</td>\n",
       "      <td>PC 17604</td>\n",
       "      <td>82.1708</td>\n",
       "      <td>NaN</td>\n",
       "      <td>C</td>\n",
       "    </tr>\n",
       "    <tr>\n",
       "      <th>55</th>\n",
       "      <td>56</td>\n",
       "      <td>1</td>\n",
       "      <td>1</td>\n",
       "      <td>Woolner, Mr. Hugh</td>\n",
       "      <td>male</td>\n",
       "      <td>NaN</td>\n",
       "      <td>0</td>\n",
       "      <td>0</td>\n",
       "      <td>19947</td>\n",
       "      <td>35.5000</td>\n",
       "      <td>C52</td>\n",
       "      <td>S</td>\n",
       "    </tr>\n",
       "    <tr>\n",
       "      <th>97</th>\n",
       "      <td>98</td>\n",
       "      <td>1</td>\n",
       "      <td>1</td>\n",
       "      <td>Greenfield, Mr. William Bertram</td>\n",
       "      <td>male</td>\n",
       "      <td>23.0</td>\n",
       "      <td>0</td>\n",
       "      <td>1</td>\n",
       "      <td>PC 17759</td>\n",
       "      <td>63.3583</td>\n",
       "      <td>D10 D12</td>\n",
       "      <td>C</td>\n",
       "    </tr>\n",
       "    <tr>\n",
       "      <th>177</th>\n",
       "      <td>178</td>\n",
       "      <td>0</td>\n",
       "      <td>1</td>\n",
       "      <td>Isham, Miss. Ann Elizabeth</td>\n",
       "      <td>female</td>\n",
       "      <td>50.0</td>\n",
       "      <td>0</td>\n",
       "      <td>0</td>\n",
       "      <td>PC 17595</td>\n",
       "      <td>28.7125</td>\n",
       "      <td>C49</td>\n",
       "      <td>C</td>\n",
       "    </tr>\n",
       "    <tr>\n",
       "      <th>224</th>\n",
       "      <td>225</td>\n",
       "      <td>1</td>\n",
       "      <td>1</td>\n",
       "      <td>Hoyt, Mr. Frederick Maxfield</td>\n",
       "      <td>male</td>\n",
       "      <td>38.0</td>\n",
       "      <td>1</td>\n",
       "      <td>0</td>\n",
       "      <td>19943</td>\n",
       "      <td>90.0000</td>\n",
       "      <td>C93</td>\n",
       "      <td>S</td>\n",
       "    </tr>\n",
       "    <tr>\n",
       "      <th>298</th>\n",
       "      <td>299</td>\n",
       "      <td>1</td>\n",
       "      <td>1</td>\n",
       "      <td>Saalfeld, Mr. Adolphe</td>\n",
       "      <td>male</td>\n",
       "      <td>NaN</td>\n",
       "      <td>0</td>\n",
       "      <td>0</td>\n",
       "      <td>19988</td>\n",
       "      <td>30.5000</td>\n",
       "      <td>C106</td>\n",
       "      <td>S</td>\n",
       "    </tr>\n",
       "    <tr>\n",
       "      <th>390</th>\n",
       "      <td>391</td>\n",
       "      <td>1</td>\n",
       "      <td>1</td>\n",
       "      <td>Carter, Mr. William Ernest</td>\n",
       "      <td>male</td>\n",
       "      <td>36.0</td>\n",
       "      <td>1</td>\n",
       "      <td>2</td>\n",
       "      <td>113760</td>\n",
       "      <td>120.0000</td>\n",
       "      <td>B96 B98</td>\n",
       "      <td>S</td>\n",
       "    </tr>\n",
       "    <tr>\n",
       "      <th>498</th>\n",
       "      <td>499</td>\n",
       "      <td>0</td>\n",
       "      <td>1</td>\n",
       "      <td>Allison, Mrs. Hudson J C (Bessie Waldo Daniels)</td>\n",
       "      <td>female</td>\n",
       "      <td>25.0</td>\n",
       "      <td>1</td>\n",
       "      <td>2</td>\n",
       "      <td>113781</td>\n",
       "      <td>151.5500</td>\n",
       "      <td>C22 C26</td>\n",
       "      <td>S</td>\n",
       "    </tr>\n",
       "    <tr>\n",
       "      <th>505</th>\n",
       "      <td>506</td>\n",
       "      <td>0</td>\n",
       "      <td>1</td>\n",
       "      <td>Penasco y Castellana, Mr. Victor de Satode</td>\n",
       "      <td>male</td>\n",
       "      <td>18.0</td>\n",
       "      <td>1</td>\n",
       "      <td>0</td>\n",
       "      <td>PC 17758</td>\n",
       "      <td>108.9000</td>\n",
       "      <td>C65</td>\n",
       "      <td>C</td>\n",
       "    </tr>\n",
       "    <tr>\n",
       "      <th>507</th>\n",
       "      <td>508</td>\n",
       "      <td>1</td>\n",
       "      <td>1</td>\n",
       "      <td>Bradley, Mr. George (\"George Arthur Brayton\")</td>\n",
       "      <td>male</td>\n",
       "      <td>NaN</td>\n",
       "      <td>0</td>\n",
       "      <td>0</td>\n",
       "      <td>111427</td>\n",
       "      <td>26.5500</td>\n",
       "      <td>NaN</td>\n",
       "      <td>S</td>\n",
       "    </tr>\n",
       "    <tr>\n",
       "      <th>550</th>\n",
       "      <td>551</td>\n",
       "      <td>1</td>\n",
       "      <td>1</td>\n",
       "      <td>Thayer, Mr. John Borland Jr</td>\n",
       "      <td>male</td>\n",
       "      <td>17.0</td>\n",
       "      <td>0</td>\n",
       "      <td>2</td>\n",
       "      <td>17421</td>\n",
       "      <td>110.8833</td>\n",
       "      <td>C70</td>\n",
       "      <td>C</td>\n",
       "    </tr>\n",
       "    <tr>\n",
       "      <th>587</th>\n",
       "      <td>588</td>\n",
       "      <td>1</td>\n",
       "      <td>1</td>\n",
       "      <td>Frolicher-Stehli, Mr. Maxmillian</td>\n",
       "      <td>male</td>\n",
       "      <td>60.0</td>\n",
       "      <td>1</td>\n",
       "      <td>1</td>\n",
       "      <td>13567</td>\n",
       "      <td>79.2000</td>\n",
       "      <td>B41</td>\n",
       "      <td>C</td>\n",
       "    </tr>\n",
       "    <tr>\n",
       "      <th>621</th>\n",
       "      <td>622</td>\n",
       "      <td>1</td>\n",
       "      <td>1</td>\n",
       "      <td>Kimball, Mr. Edwin Nelson Jr</td>\n",
       "      <td>male</td>\n",
       "      <td>42.0</td>\n",
       "      <td>1</td>\n",
       "      <td>0</td>\n",
       "      <td>11753</td>\n",
       "      <td>52.5542</td>\n",
       "      <td>D19</td>\n",
       "      <td>S</td>\n",
       "    </tr>\n",
       "    <tr>\n",
       "      <th>647</th>\n",
       "      <td>648</td>\n",
       "      <td>1</td>\n",
       "      <td>1</td>\n",
       "      <td>Simonius-Blumer, Col. Oberst Alfons</td>\n",
       "      <td>male</td>\n",
       "      <td>56.0</td>\n",
       "      <td>0</td>\n",
       "      <td>0</td>\n",
       "      <td>13213</td>\n",
       "      <td>35.5000</td>\n",
       "      <td>A26</td>\n",
       "      <td>C</td>\n",
       "    </tr>\n",
       "    <tr>\n",
       "      <th>681</th>\n",
       "      <td>682</td>\n",
       "      <td>1</td>\n",
       "      <td>1</td>\n",
       "      <td>Hassab, Mr. Hammad</td>\n",
       "      <td>male</td>\n",
       "      <td>27.0</td>\n",
       "      <td>0</td>\n",
       "      <td>0</td>\n",
       "      <td>PC 17572</td>\n",
       "      <td>76.7292</td>\n",
       "      <td>D49</td>\n",
       "      <td>C</td>\n",
       "    </tr>\n",
       "    <tr>\n",
       "      <th>690</th>\n",
       "      <td>691</td>\n",
       "      <td>1</td>\n",
       "      <td>1</td>\n",
       "      <td>Dick, Mr. Albert Adrian</td>\n",
       "      <td>male</td>\n",
       "      <td>31.0</td>\n",
       "      <td>1</td>\n",
       "      <td>0</td>\n",
       "      <td>17474</td>\n",
       "      <td>57.0000</td>\n",
       "      <td>B20</td>\n",
       "      <td>S</td>\n",
       "    </tr>\n",
       "    <tr>\n",
       "      <th>698</th>\n",
       "      <td>699</td>\n",
       "      <td>0</td>\n",
       "      <td>1</td>\n",
       "      <td>Thayer, Mr. John Borland</td>\n",
       "      <td>male</td>\n",
       "      <td>49.0</td>\n",
       "      <td>1</td>\n",
       "      <td>1</td>\n",
       "      <td>17421</td>\n",
       "      <td>110.8833</td>\n",
       "      <td>C68</td>\n",
       "      <td>C</td>\n",
       "    </tr>\n",
       "    <tr>\n",
       "      <th>712</th>\n",
       "      <td>713</td>\n",
       "      <td>1</td>\n",
       "      <td>1</td>\n",
       "      <td>Taylor, Mr. Elmer Zebley</td>\n",
       "      <td>male</td>\n",
       "      <td>48.0</td>\n",
       "      <td>1</td>\n",
       "      <td>0</td>\n",
       "      <td>19996</td>\n",
       "      <td>52.0000</td>\n",
       "      <td>C126</td>\n",
       "      <td>S</td>\n",
       "    </tr>\n",
       "    <tr>\n",
       "      <th>740</th>\n",
       "      <td>741</td>\n",
       "      <td>1</td>\n",
       "      <td>1</td>\n",
       "      <td>Hawksford, Mr. Walter James</td>\n",
       "      <td>male</td>\n",
       "      <td>NaN</td>\n",
       "      <td>0</td>\n",
       "      <td>0</td>\n",
       "      <td>16988</td>\n",
       "      <td>30.0000</td>\n",
       "      <td>D45</td>\n",
       "      <td>S</td>\n",
       "    </tr>\n",
       "    <tr>\n",
       "      <th>782</th>\n",
       "      <td>783</td>\n",
       "      <td>0</td>\n",
       "      <td>1</td>\n",
       "      <td>Long, Mr. Milton Clyde</td>\n",
       "      <td>male</td>\n",
       "      <td>29.0</td>\n",
       "      <td>0</td>\n",
       "      <td>0</td>\n",
       "      <td>113501</td>\n",
       "      <td>30.0000</td>\n",
       "      <td>D6</td>\n",
       "      <td>S</td>\n",
       "    </tr>\n",
       "    <tr>\n",
       "      <th>839</th>\n",
       "      <td>840</td>\n",
       "      <td>1</td>\n",
       "      <td>1</td>\n",
       "      <td>Marechal, Mr. Pierre</td>\n",
       "      <td>male</td>\n",
       "      <td>NaN</td>\n",
       "      <td>0</td>\n",
       "      <td>0</td>\n",
       "      <td>11774</td>\n",
       "      <td>29.7000</td>\n",
       "      <td>C47</td>\n",
       "      <td>C</td>\n",
       "    </tr>\n",
       "  </tbody>\n",
       "</table>\n",
       "</div>"
      ],
      "text/plain": [
       "     PassengerId  Survived  Pclass  \\\n",
       "30            31         0       1   \n",
       "34            35         0       1   \n",
       "55            56         1       1   \n",
       "97            98         1       1   \n",
       "177          178         0       1   \n",
       "224          225         1       1   \n",
       "298          299         1       1   \n",
       "390          391         1       1   \n",
       "498          499         0       1   \n",
       "505          506         0       1   \n",
       "507          508         1       1   \n",
       "550          551         1       1   \n",
       "587          588         1       1   \n",
       "621          622         1       1   \n",
       "647          648         1       1   \n",
       "681          682         1       1   \n",
       "690          691         1       1   \n",
       "698          699         0       1   \n",
       "712          713         1       1   \n",
       "740          741         1       1   \n",
       "782          783         0       1   \n",
       "839          840         1       1   \n",
       "\n",
       "                                                Name     Sex   Age  SibSp  \\\n",
       "30                          Uruchurtu, Don. Manuel E    male  40.0      0   \n",
       "34                           Meyer, Mr. Edgar Joseph    male  28.0      1   \n",
       "55                                 Woolner, Mr. Hugh    male   NaN      0   \n",
       "97                   Greenfield, Mr. William Bertram    male  23.0      0   \n",
       "177                       Isham, Miss. Ann Elizabeth  female  50.0      0   \n",
       "224                     Hoyt, Mr. Frederick Maxfield    male  38.0      1   \n",
       "298                            Saalfeld, Mr. Adolphe    male   NaN      0   \n",
       "390                       Carter, Mr. William Ernest    male  36.0      1   \n",
       "498  Allison, Mrs. Hudson J C (Bessie Waldo Daniels)  female  25.0      1   \n",
       "505       Penasco y Castellana, Mr. Victor de Satode    male  18.0      1   \n",
       "507    Bradley, Mr. George (\"George Arthur Brayton\")    male   NaN      0   \n",
       "550                      Thayer, Mr. John Borland Jr    male  17.0      0   \n",
       "587                 Frolicher-Stehli, Mr. Maxmillian    male  60.0      1   \n",
       "621                     Kimball, Mr. Edwin Nelson Jr    male  42.0      1   \n",
       "647              Simonius-Blumer, Col. Oberst Alfons    male  56.0      0   \n",
       "681                               Hassab, Mr. Hammad    male  27.0      0   \n",
       "690                          Dick, Mr. Albert Adrian    male  31.0      1   \n",
       "698                         Thayer, Mr. John Borland    male  49.0      1   \n",
       "712                         Taylor, Mr. Elmer Zebley    male  48.0      1   \n",
       "740                      Hawksford, Mr. Walter James    male   NaN      0   \n",
       "782                           Long, Mr. Milton Clyde    male  29.0      0   \n",
       "839                             Marechal, Mr. Pierre    male   NaN      0   \n",
       "\n",
       "     Parch    Ticket      Fare    Cabin Embarked  \n",
       "30       0  PC 17601   27.7208      NaN        C  \n",
       "34       0  PC 17604   82.1708      NaN        C  \n",
       "55       0     19947   35.5000      C52        S  \n",
       "97       1  PC 17759   63.3583  D10 D12        C  \n",
       "177      0  PC 17595   28.7125      C49        C  \n",
       "224      0     19943   90.0000      C93        S  \n",
       "298      0     19988   30.5000     C106        S  \n",
       "390      2    113760  120.0000  B96 B98        S  \n",
       "498      2    113781  151.5500  C22 C26        S  \n",
       "505      0  PC 17758  108.9000      C65        C  \n",
       "507      0    111427   26.5500      NaN        S  \n",
       "550      2     17421  110.8833      C70        C  \n",
       "587      1     13567   79.2000      B41        C  \n",
       "621      0     11753   52.5542      D19        S  \n",
       "647      0     13213   35.5000      A26        C  \n",
       "681      0  PC 17572   76.7292      D49        C  \n",
       "690      0     17474   57.0000      B20        S  \n",
       "698      1     17421  110.8833      C68        C  \n",
       "712      0     19996   52.0000     C126        S  \n",
       "740      0     16988   30.0000      D45        S  \n",
       "782      0    113501   30.0000       D6        S  \n",
       "839      0     11774   29.7000      C47        C  "
      ]
     },
     "execution_count": 40,
     "metadata": {},
     "output_type": "execute_result"
    }
   ],
   "source": [
    "wrong_p1"
   ]
  },
  {
   "cell_type": "code",
   "execution_count": 41,
   "metadata": {},
   "outputs": [
    {
     "data": {
      "text/html": [
       "<div>\n",
       "<style>\n",
       "    .dataframe thead tr:only-child th {\n",
       "        text-align: right;\n",
       "    }\n",
       "\n",
       "    .dataframe thead th {\n",
       "        text-align: left;\n",
       "    }\n",
       "\n",
       "    .dataframe tbody tr th {\n",
       "        vertical-align: top;\n",
       "    }\n",
       "</style>\n",
       "<table border=\"1\" class=\"dataframe\">\n",
       "  <thead>\n",
       "    <tr style=\"text-align: right;\">\n",
       "      <th></th>\n",
       "      <th>PassengerId</th>\n",
       "      <th>Survived</th>\n",
       "      <th>Pclass</th>\n",
       "      <th>Name</th>\n",
       "      <th>Sex</th>\n",
       "      <th>Age</th>\n",
       "      <th>SibSp</th>\n",
       "      <th>Parch</th>\n",
       "      <th>Ticket</th>\n",
       "      <th>Fare</th>\n",
       "      <th>Cabin</th>\n",
       "      <th>Embarked</th>\n",
       "    </tr>\n",
       "  </thead>\n",
       "  <tbody>\n",
       "    <tr>\n",
       "      <th>177</th>\n",
       "      <td>178</td>\n",
       "      <td>0</td>\n",
       "      <td>1</td>\n",
       "      <td>Isham, Miss. Ann Elizabeth</td>\n",
       "      <td>female</td>\n",
       "      <td>50.0</td>\n",
       "      <td>0</td>\n",
       "      <td>0</td>\n",
       "      <td>PC 17595</td>\n",
       "      <td>28.7125</td>\n",
       "      <td>C49</td>\n",
       "      <td>C</td>\n",
       "    </tr>\n",
       "    <tr>\n",
       "      <th>498</th>\n",
       "      <td>499</td>\n",
       "      <td>0</td>\n",
       "      <td>1</td>\n",
       "      <td>Allison, Mrs. Hudson J C (Bessie Waldo Daniels)</td>\n",
       "      <td>female</td>\n",
       "      <td>25.0</td>\n",
       "      <td>1</td>\n",
       "      <td>2</td>\n",
       "      <td>113781</td>\n",
       "      <td>151.5500</td>\n",
       "      <td>C22 C26</td>\n",
       "      <td>S</td>\n",
       "    </tr>\n",
       "  </tbody>\n",
       "</table>\n",
       "</div>"
      ],
      "text/plain": [
       "     PassengerId  Survived  Pclass  \\\n",
       "177          178         0       1   \n",
       "498          499         0       1   \n",
       "\n",
       "                                                Name     Sex   Age  SibSp  \\\n",
       "177                       Isham, Miss. Ann Elizabeth  female  50.0      0   \n",
       "498  Allison, Mrs. Hudson J C (Bessie Waldo Daniels)  female  25.0      1   \n",
       "\n",
       "     Parch    Ticket      Fare    Cabin Embarked  \n",
       "177      0  PC 17595   28.7125      C49        C  \n",
       "498      2    113781  151.5500  C22 C26        S  "
      ]
     },
     "execution_count": 41,
     "metadata": {},
     "output_type": "execute_result"
    }
   ],
   "source": [
    "wrong_p1[wrong_p1['Sex'] == 'female']"
   ]
  },
  {
   "cell_type": "code",
   "execution_count": 42,
   "metadata": {},
   "outputs": [
    {
     "data": {
      "text/plain": [
       "array([ 0.,  0.,  0.,  0.,  0.,  0.,  0.,  0.,  0.,  0.,  0.,  0.,  0.,\n",
       "        0.,  0.,  0.,  0.,  0.,  0.,  0.])"
      ]
     },
     "execution_count": 42,
     "metadata": {},
     "output_type": "execute_result"
    }
   ],
   "source": [
    "np.zeros((10, 2)).T.view().reshape(-1)"
   ]
  },
  {
   "cell_type": "code",
   "execution_count": 46,
   "metadata": {},
   "outputs": [],
   "source": [
    "data_test = pd.read_csv('../../data/titanic/test.csv')\n",
    "\n",
    "# data_test.drop(['Ticket'], axis=1, inplace=True)\n",
    "#补全Embarked变量\n",
    "# data_test.loc[data_test.Embarked.isnull(), \"Embarked\"] = 'S'\n",
    "\n",
    "le_sex = LabelEncoder().fit(data_test['Sex'])\n",
    "Sex_label = le_sex.transform(data_test['Sex'])\n",
    "\n",
    "# ohe_sex = OneHotEncoder(sparse=False).fit(Sex_label.reshape(-1, 1))\n",
    "le_embarked = LabelEncoder().fit(data_test['Embarked'])\n",
    "Embarked_label = le_embarked.transform(data_test['Embarked'])\n",
    "ohe_embarked = OneHotEncoder(sparse=False).fit(Embarked_label.reshape(-1, 1))\n",
    "Embarked_ohe = ohe_embarked.transform(Embarked_label.reshape(-1, 1))"
   ]
  },
  {
   "cell_type": "code",
   "execution_count": 44,
   "metadata": {},
   "outputs": [
    {
     "data": {
      "text/plain": [
       "array([[ 0.,  1.,  0.],\n",
       "       [ 0.,  0.,  1.],\n",
       "       [ 0.,  1.,  0.],\n",
       "       ..., \n",
       "       [ 0.,  0.,  1.],\n",
       "       [ 0.,  0.,  1.],\n",
       "       [ 1.,  0.,  0.]])"
      ]
     },
     "execution_count": 44,
     "metadata": {},
     "output_type": "execute_result"
    }
   ],
   "source": [
    "Embarked_ohe"
   ]
  },
  {
   "cell_type": "code",
   "execution_count": 45,
   "metadata": {},
   "outputs": [
    {
     "data": {
      "text/plain": [
       "0      3\n",
       "1      3\n",
       "2      2\n",
       "3      3\n",
       "4      3\n",
       "5      3\n",
       "6      3\n",
       "7      2\n",
       "8      3\n",
       "9      3\n",
       "10     3\n",
       "11     1\n",
       "12     1\n",
       "13     2\n",
       "14     1\n",
       "15     2\n",
       "16     2\n",
       "17     3\n",
       "18     3\n",
       "19     3\n",
       "20     1\n",
       "21     3\n",
       "22     1\n",
       "23     1\n",
       "24     1\n",
       "25     3\n",
       "26     1\n",
       "27     3\n",
       "28     1\n",
       "29     3\n",
       "      ..\n",
       "388    3\n",
       "389    3\n",
       "390    1\n",
       "391    1\n",
       "392    3\n",
       "393    2\n",
       "394    3\n",
       "395    1\n",
       "396    3\n",
       "397    1\n",
       "398    3\n",
       "399    3\n",
       "400    1\n",
       "401    2\n",
       "402    1\n",
       "403    1\n",
       "404    1\n",
       "405    2\n",
       "406    2\n",
       "407    1\n",
       "408    3\n",
       "409    3\n",
       "410    3\n",
       "411    1\n",
       "412    3\n",
       "413    3\n",
       "414    1\n",
       "415    3\n",
       "416    3\n",
       "417    3\n",
       "Name: Pclass, Length: 418, dtype: int64"
      ]
     },
     "execution_count": 45,
     "metadata": {},
     "output_type": "execute_result"
    }
   ],
   "source": [
    "data_test['Pclass']"
   ]
  },
  {
   "cell_type": "code",
   "execution_count": 263,
   "metadata": {},
   "outputs": [
    {
     "data": {
      "text/plain": [
       "array([3, 3, 2, 3, 3, 3, 3, 2, 3, 3, 3, 1, 1, 2, 1, 2, 2, 3, 3, 3, 1, 3, 1,\n",
       "       1, 1, 3, 1, 3, 1, 3, 2, 2, 3, 3, 1, 3, 3, 3, 3, 3, 3, 1, 3, 2, 1, 3,\n",
       "       1, 3, 1, 3, 1, 2, 2, 1, 2, 3, 3, 3, 3, 1, 3, 2, 3, 3, 1, 2, 3, 1, 1,\n",
       "       1, 3, 3, 3, 1, 1, 1, 3, 1, 2, 3, 3, 1, 1, 3, 2, 3, 3, 3, 3, 2, 3, 3,\n",
       "       1, 3, 1, 3, 1, 3, 3, 3, 1, 2, 3, 3, 3, 3, 3, 3, 3, 2, 2, 3, 1, 3, 1,\n",
       "       3, 3, 3, 1, 2, 2, 3, 1, 3, 3, 3, 3, 3, 2, 3, 3, 1, 3, 3, 3, 3, 3, 2,\n",
       "       3, 3, 3, 1, 1, 2, 1, 3, 1, 3, 1, 2, 1, 3, 3, 3, 3, 3, 1, 3, 1, 3, 3,\n",
       "       3, 2, 3, 2, 3, 1, 3, 1, 3, 3, 3, 3, 3, 3, 2, 2, 1, 2, 1, 2, 1, 1, 3,\n",
       "       1, 2, 2, 3, 3, 2, 2, 1, 3, 2, 2, 3, 1, 3, 2, 3, 3, 3, 1, 2, 2, 1, 3,\n",
       "       2, 1, 3, 3, 3, 2, 2, 3, 1, 3, 1, 1, 3, 2, 3, 2, 3, 1, 3, 3, 3, 3, 2,\n",
       "       2, 1, 3, 3, 1, 3, 1, 3, 2, 1, 1, 2, 1, 3, 3, 1, 2, 2, 2, 3, 2, 3, 1,\n",
       "       3, 3, 3, 3, 3, 2, 3, 3, 3, 2, 3, 2, 3, 1, 3, 3, 3, 1, 3, 1, 3, 3, 2,\n",
       "       2, 2, 2, 2, 3, 3, 3, 3, 3, 3, 3, 1, 3, 3, 1, 3, 3, 1, 3, 3, 2, 3, 1,\n",
       "       3, 3, 2, 2, 3, 3, 1, 1, 3, 1, 3, 3, 3, 3, 3, 1, 3, 1, 2, 3, 2, 3, 3,\n",
       "       2, 1, 1, 3, 2, 1, 2, 2, 2, 1, 3, 3, 3, 1, 2, 3, 2, 3, 2, 3, 3, 1, 3,\n",
       "       3, 2, 3, 2, 2, 1, 2, 2, 2, 3, 1, 1, 3, 3, 3, 3, 2, 2, 3, 1, 3, 3, 3,\n",
       "       1, 2, 2, 1, 1, 2, 1, 1, 3, 2, 1, 3, 3, 3, 3, 3, 2, 2, 3, 2, 3, 3, 1,\n",
       "       1, 3, 2, 3, 1, 3, 1, 3, 3, 1, 2, 1, 1, 1, 2, 2, 1, 3, 3, 3, 1, 3, 3,\n",
       "       1, 3, 3, 3], dtype=int64)"
      ]
     },
     "execution_count": 263,
     "metadata": {},
     "output_type": "execute_result"
    }
   ],
   "source": [
    "data_test['Pclass'].values"
   ]
  },
  {
   "cell_type": "code",
   "execution_count": null,
   "metadata": {
    "collapsed": true
   },
   "outputs": [],
   "source": []
  }
 ],
 "metadata": {
  "kernelspec": {
   "display_name": "Python 3",
   "language": "python",
   "name": "python3"
  },
  "language_info": {
   "codemirror_mode": {
    "name": "ipython",
    "version": 3
   },
   "file_extension": ".py",
   "mimetype": "text/x-python",
   "name": "python",
   "nbconvert_exporter": "python",
   "pygments_lexer": "ipython3",
   "version": "3.6.3"
  }
 },
 "nbformat": 4,
 "nbformat_minor": 2
}
